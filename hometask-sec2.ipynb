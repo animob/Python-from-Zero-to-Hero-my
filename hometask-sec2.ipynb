{
 "cells": [
  {
   "cell_type": "code",
   "execution_count": 3,
   "id": "3854f330-2ab6-4a9f-bba4-c9a272d1420f",
   "metadata": {},
   "outputs": [
    {
     "name": "stdin",
     "output_type": "stream",
     "text": [
      "Сколько чашек вы уже купили?\n",
      " 7\n"
     ]
    },
    {
     "name": "stdout",
     "output_type": "stream",
     "text": [
      "Количество ваших бонусных чашек: 1\n"
     ]
    }
   ],
   "source": [
    "number_cups_str = input('Сколько чашек вы уже купили?\\n')\n",
    "number_cups = int(number_cups_str)\n",
    "bonuses = int(number_cups / 6)\n",
    "if number_cups < 6:\n",
    "    print('У вас пока нет бонусных чашек')\n",
    "else :\n",
    "    print(f'Количество ваших бонусных чашек: {bonuses}')"
   ]
  },
  {
   "cell_type": "code",
   "execution_count": 9,
   "id": "6e3ee82d-6d3d-4d20-b83c-e03f47f42787",
   "metadata": {},
   "outputs": [
    {
     "name": "stdin",
     "output_type": "stream",
     "text": [
      "Введите X первой точки\n",
      " 3\n",
      "Введите Y первой точки\n",
      " 6\n",
      "Введите X второй точки\n",
      " 4\n",
      "Введите Y второй точки\n",
      " 6\n"
     ]
    },
    {
     "name": "stdout",
     "output_type": "stream",
     "text": [
      "Расстояние между точками (3, 6) и (4, 6) равно 1.000\n"
     ]
    }
   ],
   "source": [
    "import math\n",
    "\n",
    "x1 = int(input('Введите X первой точки\\n'))\n",
    "y1 = int(input('Введите Y первой точки\\n'))\n",
    "\n",
    "x2 = int(input('Введите X второй точки\\n'))\n",
    "y2 = int(input('Введите Y второй точки\\n'))\n",
    "\n",
    "# Расстояние между точками\n",
    "distance = math.sqrt((x2 - x1) ** 2 + (y2 - y1) ** 2)\n",
    "print(f'Расстояние между точками ({x1}, {y1}) и ({x2}, {y2}) равно {distance:1.3f}')"
   ]
  },
  {
   "cell_type": "code",
   "execution_count": 7,
   "id": "de7e7f6b-57c7-4e46-9d8e-ca9783ca728c",
   "metadata": {},
   "outputs": [
    {
     "name": "stdin",
     "output_type": "stream",
     "text": [
      "Введите количество кур\n",
      " 2\n",
      "Введите количество коров\n",
      " 3\n",
      "Введите количество свиней\n",
      " 4\n"
     ]
    },
    {
     "name": "stdout",
     "output_type": "stream",
     "text": [
      "Общее количество ног на ферме: 32\n"
     ]
    }
   ],
   "source": [
    "number_chicken_legs = 2\n",
    "number_cow_legs = 4\n",
    "number_pig_legs = 4\n",
    "\n",
    "chicken_str = input('Введите количество кур\\n')\n",
    "chicken = int(chicken_str) * number_chicken_legs\n",
    "\n",
    "cow_str = input('Введите количество коров\\n')\n",
    "cow = int(cow_str) * number_cow_legs\n",
    "\n",
    "pig_str = input('Введите количество свиней\\n')\n",
    "pig = int(pig_str) * number_pig_legs\n",
    "\n",
    "total_count_legs = chicken + cow + pig\n",
    "\n",
    "print(f'Общее количество ног на ферме: {total_count_legs}')"
   ]
  },
  {
   "cell_type": "code",
   "execution_count": null,
   "id": "f56ab702-a82d-4c3e-adc8-c09c953c778e",
   "metadata": {},
   "outputs": [],
   "source": []
  }
 ],
 "metadata": {
  "kernelspec": {
   "display_name": "Python 3 (ipykernel)",
   "language": "python",
   "name": "python3"
  },
  "language_info": {
   "codemirror_mode": {
    "name": "ipython",
    "version": 3
   },
   "file_extension": ".py",
   "mimetype": "text/x-python",
   "name": "python",
   "nbconvert_exporter": "python",
   "pygments_lexer": "ipython3",
   "version": "3.12.4"
  }
 },
 "nbformat": 4,
 "nbformat_minor": 5
}
